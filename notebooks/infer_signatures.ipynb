{
 "cells": [
  {
   "cell_type": "code",
   "execution_count": 1,
   "metadata": {},
   "outputs": [
    {
     "name": "stderr",
     "output_type": "stream",
     "text": [
      "INFO:signaturizer3d.unicore.utils:fused_multi_tensor is not installed corrected\n",
      "INFO:signaturizer3d.unicore.utils:fused_rounding is not installed corrected\n",
      "INFO:signaturizer3d.unicore.layer_norm:fused_layer_norm is not installed corrected\n",
      "INFO:signaturizer3d.unicore.softmax_dropout:fused_softmax is not installed corrected\n"
     ]
    },
    {
     "name": "stdout",
     "output_type": "stream",
     "text": [
      "A1: 2D fingerprints\n",
      "A2: 3D fingerprints\n",
      "A3: Scaffolds\n",
      "A4: Structural keys\n",
      "A5: Physiochemistry\n",
      "B1: Mechanism of action\n",
      "B2: Metabolic genes\n",
      "B3: Crystals\n",
      "B4: Binding\n",
      "B5: HTS bioassasy\n",
      "C1: Small molecule roles\n",
      "C2: Small molecule pathways\n",
      "C3: Signaling pathways\n",
      "C4: Biological processes\n",
      "C5: Interactome\n",
      "D1: Transcription\n",
      "D2: Cancer cell lines\n",
      "D3: Chemical genetics\n",
      "D4: Morphology\n",
      "D5: Cell bioassasy\n",
      "E1: Theraupetic areas\n",
      "E2: Indications\n",
      "E3: Side effects\n",
      "E4: Diseases & toxicology\n",
      "E5: Drug-drug interactions\n"
     ]
    }
   ],
   "source": [
    "from signaturizer3d import CCSpace\n",
    "\n",
    "# Print all 25 available spaces for the signaturizer\n",
    "CCSpace.print_spaces()"
   ]
  },
  {
   "cell_type": "markdown",
   "metadata": {},
   "source": [
    "Specify a space by using the space description \"Binding\" or using the short code representing the space of interest directly on the CCSpace enum, here B4."
   ]
  },
  {
   "cell_type": "code",
   "execution_count": 2,
   "metadata": {},
   "outputs": [
    {
     "name": "stdout",
     "output_type": "stream",
     "text": [
      "True\n",
      "We'll work with B4: Binding\n"
     ]
    }
   ],
   "source": [
    "space_of_interest = CCSpace(\"Binding\")\n",
    "space_alternative = CCSpace.B4\n",
    "print(space_of_interest == space_alternative)\n",
    "print(f\"We'll work with {space_of_interest}\")"
   ]
  },
  {
   "cell_type": "markdown",
   "metadata": {},
   "source": [
    "Instantiate a `Signaturizer` object to load the model weights for your space of interest. The weights will only be downloaded the first time you use a space, after that they are cached by pytorch."
   ]
  },
  {
   "cell_type": "code",
   "execution_count": 3,
   "metadata": {},
   "outputs": [
    {
     "name": "stderr",
     "output_type": "stream",
     "text": [
      "INFO:signaturizer3d.unimol.unimol:Loading pretrained weights from https://github.com/aksell/test-pytorch-modelhub/releases/download/full-CC/B4_split0.pt\n"
     ]
    }
   ],
   "source": [
    "from signaturizer3d import Signaturizer\n",
    "\n",
    "signaturizer_B4 = Signaturizer(CCSpace.B4)"
   ]
  },
  {
   "cell_type": "markdown",
   "metadata": {},
   "source": [
    "Signatures can be infered from a list of smiles. Do do inference we need a 3D conformation for the molecule. Before inference a 3D conformation will be generated for the molecules using RDKit."
   ]
  },
  {
   "cell_type": "code",
   "execution_count": 4,
   "metadata": {},
   "outputs": [
    {
     "name": "stderr",
     "output_type": "stream",
     "text": [
      "INFO:signaturizer3d.input.smiles:Start generating conformers...\n",
      "2it [00:00, 32.65it/s]\n",
      "INFO:signaturizer3d.input.smiles:Conformer generation success rate: 100.00%\n"
     ]
    },
    {
     "name": "stdout",
     "output_type": "stream",
     "text": [
      "(2, 128)\n"
     ]
    }
   ],
   "source": [
    "smiles_list = [\"C\", \"CCC\"]\n",
    "signatures = signaturizer_B4.infer_from_smiles(smiles_list)\n",
    "print(signatures.shape)"
   ]
  },
  {
   "cell_type": "markdown",
   "metadata": {},
   "source": [
    "If you already have structures for your molecules you can do inference from SDF files."
   ]
  },
  {
   "cell_type": "code",
   "execution_count": 5,
   "metadata": {},
   "outputs": [
    {
     "name": "stdout",
     "output_type": "stream",
     "text": [
      "SDF file names ./sdf_files/: ['ethanol-3D-structure-CT1001214542.sdf', 'S-Fluoxetine-3D-structure-CT1000405130.sdf', 'tamoxifen-3D-structure-CT1001176588.sdf']\n",
      "(3, 128)\n",
      "[[-0.09519936  0.06829637 -0.08188163  0.1029023  -0.05649166 -0.06668392\n",
      "   0.08427928 -0.1099747   0.06556955 -0.09545685  0.07614429 -0.04069559\n",
      "   0.0624813  -0.06223743  0.09910508 -0.08936232  0.10336801 -0.03606369\n",
      "   0.03822726 -0.06820646 -0.02681307  0.02072948 -0.00487476 -0.00069978\n",
      "  -0.09776585  0.11285394  0.03235247 -0.11460033 -0.05307676  0.00650208\n",
      "   0.1111129  -0.10874218  0.0735438   0.12068304  0.10218719 -0.05537481\n",
      "  -0.12561333 -0.11073242 -0.00435872  0.09860958 -0.09820296  0.10806404\n",
      "  -0.04810098 -0.09633937 -0.1113384   0.09649462 -0.1037758   0.10374872\n",
      "   0.11269274  0.09431731 -0.10281128  0.10951822 -0.04198135  0.09022897\n",
      "  -0.07675917 -0.09154199 -0.08738239 -0.10794725 -0.07321379 -0.08334978\n",
      "   0.08571323  0.11039509  0.05947338  0.08808466 -0.0265783  -0.09482557\n",
      "  -0.07769462  0.00462847  0.02734587  0.05330993 -0.09462412 -0.09822266\n",
      "  -0.1299852  -0.02438575  0.10665686  0.06517833 -0.00668913  0.08759781\n",
      "   0.08869293  0.11050525 -0.09160459  0.03059593 -0.06778368  0.11870718\n",
      "  -0.11027886 -0.10996658  0.07143594 -0.10351725  0.03618904 -0.05718556\n",
      "  -0.09432012 -0.09616789 -0.00779974  0.10895818 -0.00987175 -0.10625312\n",
      "   0.06305659 -0.01600129 -0.00338463  0.1144288  -0.1102859   0.11152267\n",
      "   0.06629623 -0.10037379 -0.03910294 -0.06959145  0.11761765  0.04924203\n",
      "   0.12206943  0.12482267 -0.09898444  0.10692125  0.10492378 -0.02412859\n",
      "  -0.08322724  0.06634835  0.11659238  0.09883961 -0.05916312 -0.1022179\n",
      "  -0.0845703   0.08252734 -0.1202725  -0.11737522  0.01579055  0.07776444\n",
      "  -0.12609994 -0.11620418]\n",
      " [-0.09561825  0.08594124  0.09561802 -0.01473394 -0.09801006  0.06896896\n",
      "   0.09153356  0.08759682  0.08250362 -0.08514886  0.08633149  0.05460223\n",
      "   0.08778212 -0.01959655  0.09014052 -0.05055239 -0.08999443 -0.08022731\n",
      "   0.03766004 -0.08322618  0.08087473 -0.07815272 -0.08327159 -0.07814579\n",
      "  -0.09496143  0.05275389  0.09436482 -0.09299365  0.11002161  0.07798631\n",
      "   0.08511571 -0.09532502  0.10165529  0.09538236 -0.1118478   0.07826061\n",
      "   0.07651158  0.09929211  0.0172268   0.10247276  0.09543739  0.06286205\n",
      "   0.0665052   0.09637618 -0.01480423 -0.10967544  0.05600338  0.00446526\n",
      "   0.04421334 -0.1057675  -0.08839217 -0.07962553 -0.07928887 -0.06143355\n",
      "  -0.10196906  0.07758074  0.09667055  0.08327414  0.09035067  0.07991323\n",
      "  -0.09927613  0.08797277  0.09376518  0.08719783  0.09373438  0.08754534\n",
      "   0.08475414  0.08241665 -0.09320281 -0.0429882  -0.06590832  0.02859357\n",
      "  -0.07134398  0.02354826  0.03868216  0.09827481  0.0107693   0.06730058\n",
      "   0.09379461  0.08479257  0.08325762  0.08368952 -0.08408624  0.00829461\n",
      "  -0.02437137 -0.01577849  0.03851676 -0.01586532 -0.07956382 -0.07150851\n",
      "   0.09634271 -0.0532285   0.0938423   0.0995594  -0.09421551 -0.05116827\n",
      "  -0.07372675  0.05988863 -0.09136322  0.07607631 -0.08669996  0.09443602\n",
      "  -0.08667997 -0.09425995 -0.02759305 -0.07467459  0.08379945  0.08400271\n",
      "   0.08471739  0.08432728 -0.02168561  0.09535518  0.11861528  0.10360098\n",
      "  -0.09684698 -0.07869107  0.08648227  0.05627023 -0.09302917 -0.09819818\n",
      "   0.07986416 -0.10201034 -0.09233774 -0.08574729  0.09269336  0.07744084\n",
      "   0.00956614  0.09761121]\n",
      " [-0.00301044  0.12238942  0.10727526 -0.09552299  0.05666836 -0.09241889\n",
      "   0.08889141 -0.06425538 -0.0416422  -0.06451401  0.03623763  0.01547868\n",
      "   0.08655693 -0.10024004 -0.09409624 -0.09238698 -0.10014685  0.07381139\n",
      "  -0.06396875 -0.10548736 -0.09033367 -0.08426914  0.10630792  0.00821374\n",
      "  -0.11056561  0.02760474 -0.08522137  0.10987931  0.0147206   0.11161559\n",
      "  -0.08271687 -0.10315906  0.10902955 -0.09361861  0.03699305 -0.04820671\n",
      "  -0.05138569  0.10081345  0.0348536   0.09200005 -0.05127579 -0.02968634\n",
      "   0.09831202  0.1200766  -0.06393027  0.07970597 -0.08368261 -0.08649797\n",
      "   0.06202024 -0.08854531  0.07534309 -0.09977368  0.09144344  0.02316228\n",
      "  -0.09321611 -0.04579464  0.08811897  0.0425105   0.05407127 -0.07765486\n",
      "   0.11016357  0.07623963 -0.03250011 -0.03018868  0.07863549  0.03049532\n",
      "  -0.12124488  0.08954202 -0.06289195  0.09678917 -0.09222943 -0.01180059\n",
      "  -0.07980588 -0.06353004 -0.10235982 -0.02121474  0.10359603  0.02762754\n",
      "  -0.08339252  0.00863746  0.12006831 -0.09718107 -0.09760811  0.10588443\n",
      "  -0.10167457 -0.01494991 -0.08879241 -0.08199035  0.06963553  0.07476326\n",
      "   0.08463982  0.10540772  0.0600052  -0.06032426  0.11924021  0.07239236\n",
      "  -0.00872887  0.00169058 -0.05706043 -0.08035814  0.10958563 -0.04740505\n",
      "   0.05102938  0.08202357  0.07991517  0.05999611  0.082626    0.08962382\n",
      "   0.11071125  0.10671846 -0.03472036 -0.10614318 -0.08146454  0.00868651\n",
      "  -0.05347383 -0.10877838 -0.06760426  0.10330746 -0.05350836  0.06775665\n",
      "   0.0905251   0.10041204  0.10456844  0.01412508  0.10421903  0.10743031\n",
      "  -0.03784837  0.11969405]]\n"
     ]
    }
   ],
   "source": [
    "import os\n",
    "sdf_dir_path = \"./sdf_files/\"\n",
    "print(f\"SDF file names {sdf_dir_path}: {os.listdir(sdf_dir_path)}\")\n",
    "signatures = signaturizer_B4.infer_from_sdf(\"./sdf_files/\")\n",
    "print(signatures.shape)\n",
    "print(signatures)"
   ]
  },
  {
   "cell_type": "markdown",
   "metadata": {},
   "source": [
    "## Fetching structures from ChEMBL\n",
    "Below is an example of infering signatures by first fetching structures from chembl"
   ]
  },
  {
   "cell_type": "code",
   "execution_count": null,
   "metadata": {},
   "outputs": [],
   "source": [
    "!pip install chembl_webresource_client"
   ]
  },
  {
   "cell_type": "code",
   "execution_count": 7,
   "metadata": {},
   "outputs": [
    {
     "name": "stderr",
     "output_type": "stream",
     "text": [
      "INFO:chembl_webresource_client.url_query:resetting chunk\n",
      "INFO:chembl_webresource_client.url_query:https://www.ebi.ac.uk/chembl/api/data/molecule/search.json\n",
      "INFO:chembl_webresource_client.url_query:[('q', 'ethanol'), ('limit', 20), ('offset', 0)]\n",
      "INFO:chembl_webresource_client.url_query:From cache: True\n",
      "INFO:chembl_webresource_client.url_query:headers:\n",
      "INFO:chembl_webresource_client.url_query:{'Accept': 'application/json'}\n",
      "INFO:chembl_webresource_client.url_query:https://www.ebi.ac.uk/chembl/api/data/molecule/CHEMBL545\n",
      "INFO:chembl_webresource_client.url_query:From cache: True\n",
      "INFO:chembl_webresource_client.url_query:resetting chunk\n",
      "INFO:chembl_webresource_client.url_query:https://www.ebi.ac.uk/chembl/api/data/molecule/search.json\n",
      "INFO:chembl_webresource_client.url_query:[('q', 'tamoxifen'), ('limit', 20), ('offset', 0)]\n",
      "INFO:chembl_webresource_client.url_query:From cache: True\n",
      "INFO:chembl_webresource_client.url_query:headers:\n",
      "INFO:chembl_webresource_client.url_query:{'Accept': 'application/json'}\n",
      "INFO:chembl_webresource_client.url_query:https://www.ebi.ac.uk/chembl/api/data/molecule/CHEMBL83\n",
      "INFO:chembl_webresource_client.url_query:From cache: True\n",
      "INFO:chembl_webresource_client.url_query:resetting chunk\n",
      "INFO:chembl_webresource_client.url_query:https://www.ebi.ac.uk/chembl/api/data/molecule/search.json\n",
      "INFO:chembl_webresource_client.url_query:[('q', 'fluoxetine'), ('limit', 20), ('offset', 0)]\n",
      "INFO:chembl_webresource_client.url_query:From cache: True\n",
      "INFO:chembl_webresource_client.url_query:headers:\n",
      "INFO:chembl_webresource_client.url_query:{'Accept': 'application/json'}\n",
      "INFO:chembl_webresource_client.url_query:https://www.ebi.ac.uk/chembl/api/data/molecule/CHEMBL41\n",
      "INFO:chembl_webresource_client.url_query:From cache: True\n"
     ]
    },
    {
     "name": "stdout",
     "output_type": "stream",
     "text": [
      "Found ChEMBL ID for ethanol: CHEMBL545\n",
      "SDF file for ethanol saved as ./chembl_files/ethanol.sdf\n",
      "Found ChEMBL ID for tamoxifen: CHEMBL83\n",
      "SDF file for tamoxifen saved as ./chembl_files/tamoxifen.sdf\n",
      "Found ChEMBL ID for fluoxetine: CHEMBL41\n",
      "SDF file for fluoxetine saved as ./chembl_files/fluoxetine.sdf\n",
      "Done fetching files\n",
      "Done infering signatures\n",
      "(3, 128)\n"
     ]
    }
   ],
   "source": [
    "from chembl_webresource_client.new_client import new_client\n",
    "import os\n",
    "\n",
    "def fetch_sdf(compound_name, sdf_dir_path):\n",
    "    # Search for the compound\n",
    "    molecule = new_client.molecule\n",
    "    res = molecule.search(compound_name)\n",
    "    \n",
    "    if res is None:\n",
    "        print(f\"No results found for {compound_name}\")\n",
    "        return\n",
    "\n",
    "    # Get the ChEMBL ID for the first result\n",
    "    chembl_id = res[0]['molecule_chembl_id']\n",
    "    print(f\"Found ChEMBL ID for {compound_name}: {chembl_id}\")\n",
    "\n",
    "    # Fetch the SDF file\n",
    "    result = molecule.get(chembl_id).get('molecule_structures')\n",
    "    molfile = result.get('molfile')\n",
    "    if not molfile:\n",
    "        print(f\"SDF content not found for {compound_name}\")\n",
    "        return\n",
    "\n",
    "    sdf_file_path = os.path.join(sdf_dir_path, f\"{compound_name}.sdf\")\n",
    "\n",
    "    # Write to file\n",
    "    with open(sdf_file_path, 'w') as file:\n",
    "        file.write(molfile)\n",
    "\n",
    "    print(f\"SDF file for {compound_name} saved as {sdf_file_path}\")\n",
    "\n",
    "# Directory to save SDF files\n",
    "sdf_dir_path = \"./chembl_files/\"\n",
    "os.makedirs(sdf_dir_path, exist_ok=True)\n",
    "\n",
    "# Fetch SDF files\n",
    "compounds = [\"ethanol\", \"tamoxifen\", \"fluoxetine\"]\n",
    "for compound in compounds:\n",
    "    fetch_sdf(compound, sdf_dir_path)\n",
    "\n",
    "print(\"Done fetching files\")\n",
    "signatures = signaturizer_B4.infer_from_sdf(sdf_dir_path)\n",
    "print(\"Done infering signatures\")\n",
    "print(signatures.shape)\n"
   ]
  },
  {
   "cell_type": "markdown",
   "metadata": {},
   "source": [
    "## Inference from other formats than SDF files\n",
    "If you have molecular structure in a different format than SDF it is possible to do inference from a lists of atoms and coordinates for your molecules.\n",
    "This is what is used under the hood after extracting the coordinates from a SDF file."
   ]
  },
  {
   "cell_type": "code",
   "execution_count": 8,
   "metadata": {
    "tags": []
   },
   "outputs": [
    {
     "name": "stdout",
     "output_type": "stream",
     "text": [
      "(2, 128)\n"
     ]
    }
   ],
   "source": [
    "from signaturizer3d import Signaturizer\n",
    "\n",
    "atoms_mol1 =  [\"C\", \"C\"]\n",
    "coords_mol1 = [[0, 0, 0], [0, 0, 1]]\n",
    "atoms_mol2 = [\"C\", \"C\", \"C\"]\n",
    "coords_mol2 = [[0, 0, 0], [0, 0, 1], [0, 0, 2]]\n",
    "signatures = signaturizer_B4.infer_from_coordinates(atoms=[atoms_mol1, atoms_mol2], coordinates=[coords_mol1, coords_mol2])\n",
    "print(signatures.shape)\n"
   ]
  },
  {
   "cell_type": "markdown",
   "metadata": {},
   "source": [
    "## Generating conformations manually with RDKit\n",
    "If you don't have structures for your molecules and want more control over conformation generation than you get by\n",
    "doing inference directly from smiles you can generate conformations manually and do inference with these structures.\n",
    "This is convenient if you want inference to be repetable or want to validate the conformations before running inference.\n",
    "Visualization and conformation generation is adapted from [this](https://greglandrum.github.io/rdkit-blog/posts/2023-02-04-working-with-conformers.html) post on the RDkit blog. "
   ]
  },
  {
   "cell_type": "code",
   "execution_count": 9,
   "metadata": {},
   "outputs": [
    {
     "name": "stdout",
     "output_type": "stream",
     "text": [
      "Requirement already satisfied: py3Dmol in /aloy/home/alenes/signaturizer3d/.venv/lib/python3.10/site-packages (2.0.4)\n",
      "\n",
      "\u001b[1m[\u001b[0m\u001b[34;49mnotice\u001b[0m\u001b[1;39;49m]\u001b[0m\u001b[39;49m A new release of pip is available: \u001b[0m\u001b[31;49m23.1.2\u001b[0m\u001b[39;49m -> \u001b[0m\u001b[32;49m23.3.1\u001b[0m\n",
      "\u001b[1m[\u001b[0m\u001b[34;49mnotice\u001b[0m\u001b[1;39;49m]\u001b[0m\u001b[39;49m To update, run: \u001b[0m\u001b[32;49mpip install --upgrade pip\u001b[0m\n"
     ]
    }
   ],
   "source": [
    "!pip install py3Dmol"
   ]
  },
  {
   "cell_type": "code",
   "execution_count": 10,
   "metadata": {},
   "outputs": [
    {
     "name": "stdout",
     "output_type": "stream",
     "text": [
      "2022.09.5\n"
     ]
    }
   ],
   "source": [
    "from rdkit import Chem\n",
    "from rdkit.Chem.Draw import IPythonConsole\n",
    "IPythonConsole.ipython_3d = True\n",
    "import py3Dmol\n",
    "import rdkit\n",
    "\n",
    "from rdkit.Chem import rdDepictor\n",
    "from rdkit.Chem import rdDistGeom\n",
    "print(rdkit.__version__)\n",
    "\n",
    "esomeprazole = Chem.MolFromSmiles('COc1ccc2[n-]c([S@@+]([O-])Cc3ncc(C)c(OC)c3C)nc2c1')"
   ]
  },
  {
   "cell_type": "code",
   "execution_count": 11,
   "metadata": {},
   "outputs": [
    {
     "name": "stderr",
     "output_type": "stream",
     "text": [
      "[12:57:43] UFFTYPER: Unrecognized charge state for atom: 8\n"
     ]
    },
    {
     "data": {
      "application/3dmoljs_load.v0": "<div id=\"3dmolviewer_16998766639591007\"  style=\"position: relative; width: 400px; height: 400px;\">\n        <p id=\"3dmolwarning_16998766639591007\" style=\"background-color:#ffcccc;color:black\">You appear to be running in JupyterLab (or JavaScript failed to load for some other reason).  You need to install the 3dmol extension: <br>\n        <tt>jupyter labextension install jupyterlab_3dmol</tt></p>\n        </div>\n<script>\n\nvar loadScriptAsync = function(uri){\n  return new Promise((resolve, reject) => {\n    //this is to ignore the existence of requirejs amd\n    var savedexports, savedmodule;\n    if (typeof exports !== 'undefined') savedexports = exports;\n    else exports = {}\n    if (typeof module !== 'undefined') savedmodule = module;\n    else module = {}\n\n    var tag = document.createElement('script');\n    tag.src = uri;\n    tag.async = true;\n    tag.onload = () => {\n        exports = savedexports;\n        module = savedmodule;\n        resolve();\n    };\n  var firstScriptTag = document.getElementsByTagName('script')[0];\n  firstScriptTag.parentNode.insertBefore(tag, firstScriptTag);\n});\n};\n\nif(typeof $3Dmolpromise === 'undefined') {\n$3Dmolpromise = null;\n  $3Dmolpromise = loadScriptAsync('https://cdnjs.cloudflare.com/ajax/libs/3Dmol/2.0.4/3Dmol-min.js');\n}\n\nvar viewer_16998766639591007 = null;\nvar warn = document.getElementById(\"3dmolwarning_16998766639591007\");\nif(warn) {\n    warn.parentNode.removeChild(warn);\n}\n$3Dmolpromise.then(function() {\nviewer_16998766639591007 = $3Dmol.createViewer(document.getElementById(\"3dmolviewer_16998766639591007\"),{backgroundColor:\"white\"});\nviewer_16998766639591007.zoomTo();\n\tviewer_16998766639591007.removeAllModels();\n\tviewer_16998766639591007.addModel(\"\\n     RDKit          3D\\n\\n 42 44  0  0  0  0  0  0  0  0999 V2000\\n    5.9426    3.0153   -0.7812 C   0  0  0  0  0  0  0  0  0  0  0  0\\n    4.7880    2.3145   -1.1660 O   0  0  0  0  0  0  0  0  0  0  0  0\\n    4.3520    1.1016   -0.6681 C   0  0  0  0  0  0  0  0  0  0  0  0\\n    5.0616    0.3873    0.2736 C   0  0  0  0  0  0  0  0  0  0  0  0\\n    4.5585   -0.8025    0.7494 C   0  0  0  0  0  0  0  0  0  0  0  0\\n    3.3445   -1.2886    0.2928 C   0  0  0  0  0  0  0  0  0  0  0  0\\n    2.5870   -2.3421    0.6810 N   0  0  0  0  0  2  0  0  0  0  0  0\\n    1.3932   -2.3052    0.0003 C   0  0  0  0  0  0  0  0  0  0  0  0\\n    0.1323   -3.3846    0.5392 S   0  0  0  0  0  3  0  0  0  0  0  0\\n   -0.2692   -2.7949    2.1221 O   0  0  0  0  0  1  0  0  0  0  0  0\\n   -1.3607   -3.0229   -0.3616 C   0  0  0  0  0  0  0  0  0  0  0  0\\n   -1.7133   -1.6277   -0.3394 C   0  0  0  0  0  0  0  0  0  0  0  0\\n   -1.1205   -0.9019   -1.3580 N   0  0  0  0  0  0  0  0  0  0  0  0\\n   -1.5134    0.3395   -1.6681 C   0  0  0  0  0  0  0  0  0  0  0  0\\n   -2.5127    0.9903   -1.0082 C   0  0  0  0  0  0  0  0  0  0  0  0\\n   -2.9117    2.3444   -1.4658 C   0  0  0  0  0  0  0  0  0  0  0  0\\n   -3.1359    0.3139    0.0317 C   0  0  0  0  0  0  0  0  0  0  0  0\\n   -4.1341    0.9138    0.7416 O   0  0  0  0  0  0  0  0  0  0  0  0\\n   -5.5020    0.9566    0.5891 C   0  0  0  0  0  0  0  0  0  0  0  0\\n   -2.6864   -0.9947    0.3094 C   0  0  0  0  0  0  0  0  0  0  0  0\\n   -3.3278   -1.6519    1.4948 C   0  0  0  0  0  0  0  0  0  0  0  0\\n    1.4255   -1.2621   -0.8045 N   0  0  0  0  0  0  0  0  0  0  0  0\\n    2.6139   -0.6076   -0.6472 C   0  0  0  0  0  0  0  0  0  0  0  0\\n    3.1365    0.5705   -1.1100 C   0  0  0  0  0  0  0  0  0  0  0  0\\n    6.5112    3.4397   -1.6120 H   0  0  0  0  0  0  0  0  0  0  0  0\\n    5.6567    3.8330   -0.0401 H   0  0  0  0  0  0  0  0  0  0  0  0\\n    6.6294    2.3726   -0.2066 H   0  0  0  0  0  0  0  0  0  0  0  0\\n    6.0109    0.7741    0.6460 H   0  0  0  0  0  0  0  0  0  0  0  0\\n    5.1209   -1.3593    1.4908 H   0  0  0  0  0  0  0  0  0  0  0  0\\n   -1.2212   -3.4391   -1.3966 H   0  0  0  0  0  0  0  0  0  0  0  0\\n   -2.1666   -3.6996    0.0540 H   0  0  0  0  0  0  0  0  0  0  0  0\\n   -1.0266    0.8728   -2.5012 H   0  0  0  0  0  0  0  0  0  0  0  0\\n   -3.7781    2.7524   -0.8874 H   0  0  0  0  0  0  0  0  0  0  0  0\\n   -3.1930    2.2891   -2.5617 H   0  0  0  0  0  0  0  0  0  0  0  0\\n   -2.1020    3.0957   -1.4002 H   0  0  0  0  0  0  0  0  0  0  0  0\\n   -5.8255    1.8167   -0.0626 H   0  0  0  0  0  0  0  0  0  0  0  0\\n   -5.9109    0.0031    0.1636 H   0  0  0  0  0  0  0  0  0  0  0  0\\n   -5.9896    1.1521    1.6000 H   0  0  0  0  0  0  0  0  0  0  0  0\\n   -4.3081   -1.1694    1.7391 H   0  0  0  0  0  0  0  0  0  0  0  0\\n   -3.4824   -2.7187    1.3842 H   0  0  0  0  0  0  0  0  0  0  0  0\\n   -2.6629   -1.3870    2.3751 H   0  0  0  0  0  0  0  0  0  0  0  0\\n    2.5900    1.1108   -1.8553 H   0  0  0  0  0  0  0  0  0  0  0  0\\n  1  2  1  0\\n  2  3  1  0\\n  3  4  2  0\\n  4  5  1  0\\n  5  6  2  0\\n  6  7  1  0\\n  7  8  1  0\\n  8  9  1  0\\n  9 10  1  1\\n  9 11  1  0\\n 11 12  1  0\\n 12 13  2  0\\n 13 14  1  0\\n 14 15  2  0\\n 15 16  1  0\\n 15 17  1  0\\n 17 18  1  0\\n 18 19  1  0\\n 17 20  2  0\\n 20 21  1  0\\n  8 22  2  0\\n 22 23  1  0\\n 23 24  2  0\\n 24  3  1  0\\n 23  6  1  0\\n 20 12  1  0\\n  1 25  1  0\\n  1 26  1  0\\n  1 27  1  0\\n  4 28  1  0\\n  5 29  1  0\\n 11 30  1  0\\n 11 31  1  0\\n 14 32  1  0\\n 16 33  1  0\\n 16 34  1  0\\n 16 35  1  0\\n 19 36  1  0\\n 19 37  1  0\\n 19 38  1  0\\n 21 39  1  0\\n 21 40  1  0\\n 21 41  1  0\\n 24 42  1  0\\nM  CHG  3   7  -1   9   1  10  -1\\nM  END\\n\",\"sdf\");\n\tviewer_16998766639591007.setStyle({\"stick\": {}});\n\tviewer_16998766639591007.setBackgroundColor(\"0xeeeeee\");\n\tviewer_16998766639591007.zoomTo();\nviewer_16998766639591007.render();\n});\n</script>",
      "text/html": [
       "<div id=\"3dmolviewer_16998766639591007\"  style=\"position: relative; width: 400px; height: 400px;\">\n",
       "        <p id=\"3dmolwarning_16998766639591007\" style=\"background-color:#ffcccc;color:black\">You appear to be running in JupyterLab (or JavaScript failed to load for some other reason).  You need to install the 3dmol extension: <br>\n",
       "        <tt>jupyter labextension install jupyterlab_3dmol</tt></p>\n",
       "        </div>\n",
       "<script>\n",
       "\n",
       "var loadScriptAsync = function(uri){\n",
       "  return new Promise((resolve, reject) => {\n",
       "    //this is to ignore the existence of requirejs amd\n",
       "    var savedexports, savedmodule;\n",
       "    if (typeof exports !== 'undefined') savedexports = exports;\n",
       "    else exports = {}\n",
       "    if (typeof module !== 'undefined') savedmodule = module;\n",
       "    else module = {}\n",
       "\n",
       "    var tag = document.createElement('script');\n",
       "    tag.src = uri;\n",
       "    tag.async = true;\n",
       "    tag.onload = () => {\n",
       "        exports = savedexports;\n",
       "        module = savedmodule;\n",
       "        resolve();\n",
       "    };\n",
       "  var firstScriptTag = document.getElementsByTagName('script')[0];\n",
       "  firstScriptTag.parentNode.insertBefore(tag, firstScriptTag);\n",
       "});\n",
       "};\n",
       "\n",
       "if(typeof $3Dmolpromise === 'undefined') {\n",
       "$3Dmolpromise = null;\n",
       "  $3Dmolpromise = loadScriptAsync('https://cdnjs.cloudflare.com/ajax/libs/3Dmol/2.0.4/3Dmol-min.js');\n",
       "}\n",
       "\n",
       "var viewer_16998766639591007 = null;\n",
       "var warn = document.getElementById(\"3dmolwarning_16998766639591007\");\n",
       "if(warn) {\n",
       "    warn.parentNode.removeChild(warn);\n",
       "}\n",
       "$3Dmolpromise.then(function() {\n",
       "viewer_16998766639591007 = $3Dmol.createViewer(document.getElementById(\"3dmolviewer_16998766639591007\"),{backgroundColor:\"white\"});\n",
       "viewer_16998766639591007.zoomTo();\n",
       "\tviewer_16998766639591007.removeAllModels();\n",
       "\tviewer_16998766639591007.addModel(\"\\n     RDKit          3D\\n\\n 42 44  0  0  0  0  0  0  0  0999 V2000\\n    5.9426    3.0153   -0.7812 C   0  0  0  0  0  0  0  0  0  0  0  0\\n    4.7880    2.3145   -1.1660 O   0  0  0  0  0  0  0  0  0  0  0  0\\n    4.3520    1.1016   -0.6681 C   0  0  0  0  0  0  0  0  0  0  0  0\\n    5.0616    0.3873    0.2736 C   0  0  0  0  0  0  0  0  0  0  0  0\\n    4.5585   -0.8025    0.7494 C   0  0  0  0  0  0  0  0  0  0  0  0\\n    3.3445   -1.2886    0.2928 C   0  0  0  0  0  0  0  0  0  0  0  0\\n    2.5870   -2.3421    0.6810 N   0  0  0  0  0  2  0  0  0  0  0  0\\n    1.3932   -2.3052    0.0003 C   0  0  0  0  0  0  0  0  0  0  0  0\\n    0.1323   -3.3846    0.5392 S   0  0  0  0  0  3  0  0  0  0  0  0\\n   -0.2692   -2.7949    2.1221 O   0  0  0  0  0  1  0  0  0  0  0  0\\n   -1.3607   -3.0229   -0.3616 C   0  0  0  0  0  0  0  0  0  0  0  0\\n   -1.7133   -1.6277   -0.3394 C   0  0  0  0  0  0  0  0  0  0  0  0\\n   -1.1205   -0.9019   -1.3580 N   0  0  0  0  0  0  0  0  0  0  0  0\\n   -1.5134    0.3395   -1.6681 C   0  0  0  0  0  0  0  0  0  0  0  0\\n   -2.5127    0.9903   -1.0082 C   0  0  0  0  0  0  0  0  0  0  0  0\\n   -2.9117    2.3444   -1.4658 C   0  0  0  0  0  0  0  0  0  0  0  0\\n   -3.1359    0.3139    0.0317 C   0  0  0  0  0  0  0  0  0  0  0  0\\n   -4.1341    0.9138    0.7416 O   0  0  0  0  0  0  0  0  0  0  0  0\\n   -5.5020    0.9566    0.5891 C   0  0  0  0  0  0  0  0  0  0  0  0\\n   -2.6864   -0.9947    0.3094 C   0  0  0  0  0  0  0  0  0  0  0  0\\n   -3.3278   -1.6519    1.4948 C   0  0  0  0  0  0  0  0  0  0  0  0\\n    1.4255   -1.2621   -0.8045 N   0  0  0  0  0  0  0  0  0  0  0  0\\n    2.6139   -0.6076   -0.6472 C   0  0  0  0  0  0  0  0  0  0  0  0\\n    3.1365    0.5705   -1.1100 C   0  0  0  0  0  0  0  0  0  0  0  0\\n    6.5112    3.4397   -1.6120 H   0  0  0  0  0  0  0  0  0  0  0  0\\n    5.6567    3.8330   -0.0401 H   0  0  0  0  0  0  0  0  0  0  0  0\\n    6.6294    2.3726   -0.2066 H   0  0  0  0  0  0  0  0  0  0  0  0\\n    6.0109    0.7741    0.6460 H   0  0  0  0  0  0  0  0  0  0  0  0\\n    5.1209   -1.3593    1.4908 H   0  0  0  0  0  0  0  0  0  0  0  0\\n   -1.2212   -3.4391   -1.3966 H   0  0  0  0  0  0  0  0  0  0  0  0\\n   -2.1666   -3.6996    0.0540 H   0  0  0  0  0  0  0  0  0  0  0  0\\n   -1.0266    0.8728   -2.5012 H   0  0  0  0  0  0  0  0  0  0  0  0\\n   -3.7781    2.7524   -0.8874 H   0  0  0  0  0  0  0  0  0  0  0  0\\n   -3.1930    2.2891   -2.5617 H   0  0  0  0  0  0  0  0  0  0  0  0\\n   -2.1020    3.0957   -1.4002 H   0  0  0  0  0  0  0  0  0  0  0  0\\n   -5.8255    1.8167   -0.0626 H   0  0  0  0  0  0  0  0  0  0  0  0\\n   -5.9109    0.0031    0.1636 H   0  0  0  0  0  0  0  0  0  0  0  0\\n   -5.9896    1.1521    1.6000 H   0  0  0  0  0  0  0  0  0  0  0  0\\n   -4.3081   -1.1694    1.7391 H   0  0  0  0  0  0  0  0  0  0  0  0\\n   -3.4824   -2.7187    1.3842 H   0  0  0  0  0  0  0  0  0  0  0  0\\n   -2.6629   -1.3870    2.3751 H   0  0  0  0  0  0  0  0  0  0  0  0\\n    2.5900    1.1108   -1.8553 H   0  0  0  0  0  0  0  0  0  0  0  0\\n  1  2  1  0\\n  2  3  1  0\\n  3  4  2  0\\n  4  5  1  0\\n  5  6  2  0\\n  6  7  1  0\\n  7  8  1  0\\n  8  9  1  0\\n  9 10  1  1\\n  9 11  1  0\\n 11 12  1  0\\n 12 13  2  0\\n 13 14  1  0\\n 14 15  2  0\\n 15 16  1  0\\n 15 17  1  0\\n 17 18  1  0\\n 18 19  1  0\\n 17 20  2  0\\n 20 21  1  0\\n  8 22  2  0\\n 22 23  1  0\\n 23 24  2  0\\n 24  3  1  0\\n 23  6  1  0\\n 20 12  1  0\\n  1 25  1  0\\n  1 26  1  0\\n  1 27  1  0\\n  4 28  1  0\\n  5 29  1  0\\n 11 30  1  0\\n 11 31  1  0\\n 14 32  1  0\\n 16 33  1  0\\n 16 34  1  0\\n 16 35  1  0\\n 19 36  1  0\\n 19 37  1  0\\n 19 38  1  0\\n 21 39  1  0\\n 21 40  1  0\\n 21 41  1  0\\n 24 42  1  0\\nM  CHG  3   7  -1   9   1  10  -1\\nM  END\\n\",\"sdf\");\n",
       "\tviewer_16998766639591007.setStyle({\"stick\": {}});\n",
       "\tviewer_16998766639591007.setBackgroundColor(\"0xeeeeee\");\n",
       "\tviewer_16998766639591007.zoomTo();\n",
       "viewer_16998766639591007.render();\n",
       "});\n",
       "</script>"
      ]
     },
     "metadata": {},
     "output_type": "display_data"
    }
   ],
   "source": [
    "esomeprazole = Chem.AddHs(esomeprazole) # Add hydrogens to get a reasonable conformer\n",
    "rdDistGeom.EmbedMolecule(esomeprazole)\n",
    "IPythonConsole.drawMol3D(esomeprazole)"
   ]
  },
  {
   "cell_type": "markdown",
   "metadata": {},
   "source": [
    "After validating the conformer we can run inference with the structure."
   ]
  },
  {
   "cell_type": "code",
   "execution_count": 12,
   "metadata": {},
   "outputs": [
    {
     "name": "stdout",
     "output_type": "stream",
     "text": [
      "['C', 'O', 'C', 'C', 'C', 'C', 'N', 'C', 'S', 'O', 'C', 'C', 'N', 'C', 'C', 'C', 'C', 'O', 'C', 'C', 'C', 'N', 'C', 'C', 'H', 'H', 'H', 'H', 'H', 'H', 'H', 'H', 'H', 'H', 'H', 'H', 'H', 'H', 'H', 'H', 'H', 'H']\n",
      "(42, 3)\n"
     ]
    }
   ],
   "source": [
    "conf = esomeprazole.GetConformer()\n",
    "coordinates = conf.GetPositions()\n",
    "atoms_list = []\n",
    "for atom in esomeprazole.GetAtoms():\n",
    "    atoms_list.append(atom.GetSymbol())\n",
    "print(atoms_list)\n",
    "print(coordinates.shape)"
   ]
  },
  {
   "cell_type": "code",
   "execution_count": 13,
   "metadata": {},
   "outputs": [
    {
     "name": "stdout",
     "output_type": "stream",
     "text": [
      "[[ 0.10534912  0.03060597 -0.05647036  0.05861403 -0.07488568  0.03211444\n",
      "   0.05733145 -0.05699329  0.09645466 -0.03772514 -0.05896286  0.02901443\n",
      "  -0.04864609 -0.08854273  0.09540114 -0.09725082  0.01925274 -0.04269111\n",
      "  -0.02906142  0.10497911 -0.06381205 -0.02077713  0.07920726  0.1271902\n",
      "  -0.12991667 -0.01890666 -0.12155195 -0.08795581 -0.0193915  -0.06440806\n",
      "  -0.11076576  0.00368134  0.12010095  0.04269152 -0.05725695 -0.01661298\n",
      "  -0.06057845 -0.07216614  0.05187513  0.10588477 -0.11565472  0.09062179\n",
      "  -0.00262216 -0.1035703  -0.11354019  0.03810996 -0.03999119  0.01191132\n",
      "   0.10989758 -0.02274036  0.12255322  0.07563224  0.08814507  0.08935983\n",
      "  -0.01557146 -0.06688122  0.02031335 -0.02494345 -0.00259073 -0.09571204\n",
      "  -0.05424452  0.09222589 -0.05004374  0.08363793 -0.06270695 -0.02128205\n",
      "   0.10725331  0.09683667 -0.08759648  0.12773815 -0.10872212 -0.0687696\n",
      "   0.00382547 -0.03729359 -0.12032747 -0.10417423 -0.01984096  0.00937093\n",
      "  -0.01222997  0.02807178 -0.13168024 -0.12700939  0.05483675  0.09866462\n",
      "  -0.04081123 -0.13007611  0.04486631 -0.0832549  -0.03535015  0.1103107\n",
      "  -0.02842196 -0.10976215 -0.03887937  0.06347612 -0.01837479 -0.06680883\n",
      "   0.08180031  0.13011628  0.1191805   0.12347188  0.07714556 -0.01757357\n",
      "  -0.09214465  0.09273215 -0.01415749  0.09516072  0.08108191  0.02907654\n",
      "  -0.01574538 -0.02717114 -0.05795346  0.09325814  0.0833018  -0.04044068\n",
      "  -0.05206811 -0.04906818  0.10309511 -0.08631602 -0.03590143  0.02642134\n",
      "   0.08186243  0.10836069 -0.07394492 -0.06868482 -0.02136425  0.07304569\n",
      "  -0.07512289 -0.07680553]]\n"
     ]
    }
   ],
   "source": [
    "signature = signaturizer_B4.infer_from_coordinates(atoms=[atoms_list], coordinates=[coordinates])\n",
    "print(signature)"
   ]
  }
 ],
 "metadata": {
  "kernelspec": {
   "display_name": "Python 3 (ipykernel)",
   "language": "python",
   "name": "python3"
  },
  "language_info": {
   "codemirror_mode": {
    "name": "ipython",
    "version": 3
   },
   "file_extension": ".py",
   "mimetype": "text/x-python",
   "name": "python",
   "nbconvert_exporter": "python",
   "pygments_lexer": "ipython3",
   "version": "3.10.11"
  }
 },
 "nbformat": 4,
 "nbformat_minor": 4
}
